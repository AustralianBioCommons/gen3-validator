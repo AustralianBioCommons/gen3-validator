{
 "cells": [
  {
   "cell_type": "code",
   "execution_count": null,
   "metadata": {},
   "outputs": [],
   "source": [
    "import gen3_data_validator\n",
    "from gen3_data_validator.logging_config import setup_logging\n",
    "setup_logging()"
   ]
  },
  {
   "cell_type": "markdown",
   "metadata": {},
   "source": [
    "## Reading in xlsx data and writing to json\n",
    "- xlsx data comes from xlsx manifest file created from acdc_submission_template"
   ]
  },
  {
   "cell_type": "code",
   "execution_count": null,
   "metadata": {},
   "outputs": [],
   "source": [
    "# ResolverClass = gen3_data_validator.ResolveSchema(schema_path = \"../schema/gen3_test_schema.json\")\n",
    "xlsxData = gen3_data_validator.ParseXlsxMetadata(xlsx_path = \"/Users/harrijh/projects/gen3-data-validator/data/lipid_metadata_example.xlsx\", skip_rows=1)\n",
    "xlsxData.parse_metadata_template()\n",
    "xlsxData.write_dict_to_json(xlsx_data_dict=xlsxData.xlsx_data_dict, output_dir=\"/Users/harrijh/projects/gen3-data-validator/data/restricted/lipid_metadata_example\")"
   ]
  },
  {
   "cell_type": "markdown",
   "metadata": {},
   "source": [
    "## Creating Resolver Instance\n",
    "- This class reads in the gen3schema.json then resolves the schema for use in the other classes\n"
   ]
  },
  {
   "cell_type": "code",
   "execution_count": null,
   "metadata": {},
   "outputs": [],
   "source": [
    "Resolver = gen3_data_validator.ResolveSchema(schema_path = \"../tests/schema/gen3_test_schema.json\")\n",
    "Resolver.resolve_schema()"
   ]
  },
  {
   "cell_type": "code",
   "execution_count": null,
   "metadata": {},
   "outputs": [],
   "source": [
    "# you can check the graph nodes in the resolved schema with \n",
    "Resolver.nodes"
   ]
  },
  {
   "cell_type": "markdown",
   "metadata": {},
   "source": [
    "You can return the resolved schema with"
   ]
  },
  {
   "cell_type": "code",
   "execution_count": null,
   "metadata": {},
   "outputs": [],
   "source": [
    "Resolver.schema_resolved"
   ]
  },
  {
   "cell_type": "markdown",
   "metadata": {},
   "source": [
    "## Parsing data\n",
    "- The parse data class takes in a data folder path containing json files for each data node\n"
   ]
  },
  {
   "cell_type": "code",
   "execution_count": null,
   "metadata": {},
   "outputs": [],
   "source": [
    "# Testing linkage for test data that passes\n",
    "Data = gen3_data_validator.ParseData(data_folder_path = \"../tests/data/pass\")"
   ]
  },
  {
   "cell_type": "markdown",
   "metadata": {},
   "source": [
    "To list the files read into the Data instance, you can use the following code:"
   ]
  },
  {
   "cell_type": "code",
   "execution_count": null,
   "metadata": {},
   "outputs": [],
   "source": [
    "Data.file_path_list"
   ]
  },
  {
   "cell_type": "markdown",
   "metadata": {},
   "source": [
    "All of the read data is stored in Data.data_dict as a dictionary, where the key is the entity and the value is a list of json objects"
   ]
  },
  {
   "cell_type": "code",
   "execution_count": null,
   "metadata": {},
   "outputs": [],
   "source": [
    "Data.data_dict"
   ]
  },
  {
   "cell_type": "markdown",
   "metadata": {},
   "source": [
    "The default link suffix is 's'\n",
    "- This links suffix can be changed depending on what the key_name for the linked information is."
   ]
  },
  {
   "cell_type": "code",
   "execution_count": null,
   "metadata": {},
   "outputs": [],
   "source": [
    "Data.link_suffix"
   ]
  },
  {
   "cell_type": "markdown",
   "metadata": {},
   "source": [
    "For example, in the json object below, we can see that the key \"subjects\" is what describes the link from sample to subject, since the value of 'subjects' is an array containing the key \"submitter_id\".\n",
    "- Furthermore, the backref is called 'subjects' while the entity is called 'sample'\n",
    "- Therefore, the link suffix is 's'"
   ]
  },
  {
   "cell_type": "code",
   "execution_count": null,
   "metadata": {},
   "outputs": [],
   "source": [
    "Data.data_dict[\"sample\"][0]"
   ]
  },
  {
   "cell_type": "markdown",
   "metadata": {},
   "source": [
    "Finally, you can also check what the detected entities are below:"
   ]
  },
  {
   "cell_type": "code",
   "execution_count": null,
   "metadata": {},
   "outputs": [],
   "source": [
    "Data.data_nodes"
   ]
  },
  {
   "cell_type": "markdown",
   "metadata": {},
   "source": [
    "## Testing Linkage"
   ]
  },
  {
   "cell_type": "markdown",
   "metadata": {},
   "source": [
    "The first thing you should do is create a linkage configuration map. The `.generate_config` method will do this for you, it will read in the data (stored in the `data_dict` attribute) and return a linkage configuration map.\n",
    "\n",
    "The linkage configuration map is a dictionary that maps each entity to a dictionary of its primary and foreign keys, with the format:\n",
    "\n",
    "```\n",
    "{\n",
    "    \"entity_name\": {\n",
    "        \"primary_key\": \"primary_key_field\",\n",
    "        \"foreign_key\": \"foreign_key_field\"\n",
    "    }\n",
    "}\n",
    "```\n",
    "\n",
    "Also, you can define the linkage configuration map yourself, but you need to make sure that the primary and foreign keys are defined for each entity."
   ]
  },
  {
   "cell_type": "code",
   "execution_count": null,
   "metadata": {},
   "outputs": [],
   "source": [
    "import gen3_data_validator\n",
    "DataPass = gen3_data_validator.ParseData(data_folder_path = \"../tests/data/pass\")\n",
    "LinkagePass = gen3_data_validator.Linkage()\n",
    "link_pass_config = LinkagePass.generate_config(DataPass.data_dict)\n",
    "link_pass_config"
   ]
  },
  {
   "cell_type": "markdown",
   "metadata": {},
   "source": [
    "Once you have the linkage configuration map, you can validate the links. The `.validate_links` method will do this for you, it will read in the data and the linkage configuration map then return a dictionary of the linkage validation results.\n",
    "\n",
    "As a reminder, the data parsed to the `.validate_links` method as the `data_map` argument, has the format:\n",
    "\n",
    "```python\n",
    "{\n",
    "    \"entity_name_1\": [\n",
    "        {\n",
    "            \"field_name\": \"field_value\"\n",
    "        },\n",
    "        {\n",
    "            \"field_name\": \"field_value\"\n",
    "        }\n",
    "    ],\n",
    "    \"entity_name_2\": [\n",
    "        {\n",
    "            \"field_name\": \"field_value\"\n",
    "        },\n",
    "        {\n",
    "            \"field_name\": \"field_value\"\n",
    "        }\n",
    "    ]\n",
    "}\n",
    "```\n",
    "Where `entity_name_1` and `entity_name_2` are the names of the entities in the data, and value is a list of json objects, each representing a record in the entity."
   ]
  },
  {
   "cell_type": "code",
   "execution_count": null,
   "metadata": {},
   "outputs": [],
   "source": [
    "import gen3_data_validator\n",
    "DataPass = gen3_data_validator.ParseData(data_folder_path = \"../tests/data/pass\")\n",
    "LinkagePass = gen3_data_validator.Linkage()\n",
    "link_pass_config = LinkagePass.generate_config(DataPass.data_dict)\n",
    "LinkagePass.validate_links(data_map = DataPass.data_dict, config = link_pass_config, root_node = 'subject')"
   ]
  },
  {
   "cell_type": "markdown",
   "metadata": {},
   "source": [
    "Testing linkage for test data that fails:\n",
    "- Note that the `root_node` argument tells the validate_links method which entitie is a root node, therefore will not have any upstream links."
   ]
  },
  {
   "cell_type": "code",
   "execution_count": null,
   "metadata": {},
   "outputs": [],
   "source": [
    "DataFail = gen3_data_validator.ParseData(data_folder_path = \"../tests/data/fail\")\n",
    "LinkageFail = gen3_data_validator.Linkage()\n",
    "link_fail_config = LinkageFail.generate_config(DataFail.data_dict)\n",
    "LinkageFail.validate_links(data_map = DataFail.data_dict, config = link_fail_config, root_node = 'subject')"
   ]
  },
  {
   "cell_type": "markdown",
   "metadata": {},
   "source": [
    "You can check the json files read into the DataFail instance"
   ]
  },
  {
   "cell_type": "code",
   "execution_count": null,
   "metadata": {},
   "outputs": [],
   "source": [
    "DataFail.file_path_list"
   ]
  },
  {
   "cell_type": "markdown",
   "metadata": {},
   "source": [
    "This returns all of the foreign keys that are not linked to a primary key"
   ]
  },
  {
   "cell_type": "code",
   "execution_count": null,
   "metadata": {},
   "outputs": [],
   "source": [
    "LinkageFail.link_validation_results"
   ]
  },
  {
   "cell_type": "markdown",
   "metadata": {},
   "source": [
    "# Data Validation\n",
    "- Validating json data objects to the gen3jsonschema\n"
   ]
  },
  {
   "cell_type": "markdown",
   "metadata": {},
   "source": [
    "Creating the validation class\n",
    "- You will need to preload the data under the `data_map` attribute and the resolved schema under the `resolved_schema` attribute in the `Validate` class."
   ]
  },
  {
   "cell_type": "code",
   "execution_count": null,
   "metadata": {},
   "outputs": [],
   "source": [
    "import gen3_data_validator\n",
    "\n",
    "resolver = gen3_data_validator.ResolveSchema(schema_path = \"../tests/schema/gen3_test_schema.json\")\n",
    "resolver.resolve_schema()\n",
    "data = gen3_data_validator.ParseData(data_folder_path = \"../tests/data/fail\")\n",
    "validator = gen3_data_validator.Validate(data_map=data.data_dict, resolved_schema=resolver.schema_resolved)\n"
   ]
  },
  {
   "cell_type": "markdown",
   "metadata": {},
   "source": [
    "You can call the orchestrator method to run the validation pipeline with `.validate_schema`"
   ]
  },
  {
   "cell_type": "code",
   "execution_count": null,
   "metadata": {},
   "outputs": [],
   "source": [
    "validator.validate_schema()"
   ]
  },
  {
   "cell_type": "markdown",
   "metadata": {},
   "source": [
    "What is returned is a data structure in the following format:\n",
    "\n",
    "```python\n",
    "{\n",
    "    'entity_name': [\n",
    "        {\n",
    "            'row_index_number': [\n",
    "                {\n",
    "                    'index': 0, # this is the index of the row in the entity\n",
    "                    'invalid_key': 'this_is_the_column_name',\n",
    "                    'validation_result': 'FAIL',\n",
    "                    'schema_path': 'this_is_the_path_to_the_property_in_the_schema',\n",
    "                    'validator': 'the_target_data_type',\n",
    "                    'validator_value': 'the_correct_value',\n",
    "                    'validation_error': 'this_is_the_validation_error_message'\n",
    "                },\n",
    "                {\n",
    "                    'index': 0, # this is the index of the row in the entity\n",
    "                    'invalid_key': 'same_row_validation_error_in_another_column',\n",
    "                    'validation_result': 'FAIL',\n",
    "                    'schema_path': 'this_is_the_path_to_the_property_in_the_schema',\n",
    "                    'validator': 'the_target_data_type',\n",
    "                    'validator_value': 'the_correct_value',\n",
    "                    'validation_error': 'this_is_the_validation_error_message'\n",
    "                }\n",
    "            ]\n",
    "        }\n",
    "    ],\n",
    "    'metabolomics_file': [\n",
    "        {\n",
    "            'index_0': [\n",
    "                {'index': 0, # error in first row\n",
    "                'validation_result': 'FAIL',\n",
    "                'invalid_key': 'data_format', # error in column called data_format\n",
    "                'schema_path': 'properties.data_format.enum',\n",
    "                'validator': 'enum',\n",
    "                'validator_value': ['wiff'],\n",
    "                'validation_error': \"True is not one of ['wiff']\"\n",
    "                },\n",
    "                {'index': 0, # error in first row\n",
    "                'validation_result': 'FAIL',\n",
    "                'invalid_key': 'data_type', # error in column called data_type\n",
    "                'schema_path': 'properties.data_type.enum',\n",
    "                'validator': 'enum',\n",
    "                'validator_value': ['MS', 'MS/MS'],\n",
    "                'validation_error': \"'1' is not one of ['MS', 'MS/MS']\"\n",
    "                }\n",
    "            ]\n",
    "        },\n",
    "        {\n",
    "            'index_1': [\n",
    "                {\n",
    "                    'index': 1, # error in second row\n",
    "                    'validation_result': 'FAIL',\n",
    "                    'invalid_key': 'data_format', # error in column called data_format\n",
    "                    'schema_path': 'properties.data_format.enum',\n",
    "                    'validator': 'enum',\n",
    "                    'validator_value': ['wiff'],\n",
    "                    'validation_error': \"True is not one of ['wiff']\"\n",
    "                }\n",
    "            ]\n",
    "        }\n",
    "    ]\n",
    "}\n",
    "\n",
    "\n",
    "     \n",
    "```"
   ]
  },
  {
   "cell_type": "markdown",
   "metadata": {},
   "source": [
    "Lets say we want to pull the validation results for a specific entity, at a specific row / index:\n",
    "- `result_type` can either be `['ALL', 'FAIL', 'PASS']`\n",
    "- This will return a list of json objects, each representing a validation result for a specific row in the entity"
   ]
  },
  {
   "cell_type": "code",
   "execution_count": null,
   "metadata": {},
   "outputs": [],
   "source": [
    "validator.pull_index_of_entity(entity=\"sample\", index_key=0, result_type=\"ALL\")"
   ]
  },
  {
   "cell_type": "markdown",
   "metadata": {},
   "source": [
    "You can print what entites were validated by using the `.list_entities` method."
   ]
  },
  {
   "cell_type": "code",
   "execution_count": null,
   "metadata": {},
   "outputs": [],
   "source": [
    "validator.list_entities()"
   ]
  },
  {
   "cell_type": "markdown",
   "metadata": {},
   "source": [
    "if you want to see the row / index names of an entity you can use the `.list_index_by_entity` method:"
   ]
  },
  {
   "cell_type": "code",
   "execution_count": null,
   "metadata": {},
   "outputs": [],
   "source": [
    "validator.list_index_by_entity(\"sample\")"
   ]
  },
  {
   "cell_type": "markdown",
   "metadata": {},
   "source": [
    "You can pull out a validation results for a specific entity with the `.pull_entity` method"
   ]
  },
  {
   "cell_type": "code",
   "execution_count": null,
   "metadata": {},
   "outputs": [],
   "source": [
    "validator.pull_entity(\"sample\")"
   ]
  },
  {
   "cell_type": "code",
   "execution_count": null,
   "metadata": {},
   "outputs": [],
   "source": [
    "len(validator.pull_entity(\"sample\"))"
   ]
  },
  {
   "cell_type": "markdown",
   "metadata": {},
   "source": [
    "You can pull validation results for a specific entity and then a specific index / row with the `pull_index_of_entity` method."
   ]
  },
  {
   "cell_type": "code",
   "execution_count": null,
   "metadata": {},
   "outputs": [],
   "source": [
    "validator.pull_index_of_entity(\"sample\", 0)"
   ]
  },
  {
   "cell_type": "markdown",
   "metadata": {},
   "source": [
    "# Getting validation stats\n",
    "- The `ValidateStats` class is used to get summary statistics and data frames of the validation results."
   ]
  },
  {
   "cell_type": "markdown",
   "metadata": {},
   "source": [
    "First we create a validator object and validate the data with the schema using the `validate_schema` method."
   ]
  },
  {
   "cell_type": "code",
   "execution_count": null,
   "metadata": {},
   "outputs": [],
   "source": [
    "import gen3_data_validator\n",
    "from gen3_data_validator.logging_config import setup_logging\n",
    "setup_logging(level=\"INFO\")\n",
    "\n",
    "resolver = gen3_data_validator.ResolveSchema(schema_path = \"../tests/schema/gen3_test_schema.json\")\n",
    "resolver.resolve_schema()\n",
    "data = gen3_data_validator.ParseData(data_folder_path = \"../tests/data/fail\")\n",
    "validator = gen3_data_validator.Validate(data_map=data.data_dict, resolved_schema=resolver.schema_resolved)\n",
    "validator.validate_schema()"
   ]
  },
  {
   "cell_type": "markdown",
   "metadata": {},
   "source": [
    "We then pass the validator instance to the `ValidateStats` class to get the summary statistics and data frames of the validation results which are stored in the `validation_result` attribute of the validator instance."
   ]
  },
  {
   "cell_type": "code",
   "execution_count": null,
   "metadata": {},
   "outputs": [],
   "source": [
    "validate_stats = gen3_data_validator.ValidateStats(validator)"
   ]
  },
  {
   "cell_type": "markdown",
   "metadata": {},
   "source": [
    "To get a high level summary we can call the `.summary_stats` method on the `ValidateStats` instance."
   ]
  },
  {
   "cell_type": "code",
   "execution_count": null,
   "metadata": {},
   "outputs": [],
   "source": [
    "validate_stats.summary_stats()"
   ]
  },
  {
   "cell_type": "markdown",
   "metadata": {},
   "source": [
    "There are several other methods in the `ValidateStats` class that provide detailed metrics about your validation results:\n",
    "\n",
    "- `n_rows_with_errors(entity)`: Returns the number of rows (entries) with at least one validation error for a given entity.\n",
    "- `n_errors_per_entry(entity, index_key)`: Returns the number of validation errors for a specific row (by index) within an entity.\n",
    "- `count_results_by_entity(entity, result_type=\"FAIL\")`: Counts the number of validation results of a specific type (e.g., \"FAIL\", \"PASS\", or \"ALL\") for an entity.\n",
    "- `count_results_by_index(entity, index_key, result_type=\"FAIL\")`: Counts the number of validation results of a specific type for a specific row (by index) within an entity.\n",
    "- `total_validation_errors()`: Returns the total number of validation errors across all entities.\n",
    "These methods allow you to drill down into the validation results and generate custom summaries or reports as needed."
   ]
  },
  {
   "cell_type": "code",
   "execution_count": null,
   "metadata": {},
   "outputs": [],
   "source": [
    "\n",
    "# Usage examples for ValidateStats methods\n",
    "\n",
    "entity = \"sample\"\n",
    "\n",
    "rows_with_errors = validate_stats.n_rows_with_errors(entity)\n",
    "print(f\"Number of rows with errors for entity '{entity}': {rows_with_errors}\")\n",
    "\n",
    "index_key = 0\n",
    "errors_per_entry = validate_stats.n_errors_per_entry(entity, index_key)\n",
    "print(f\"Number of errors for entity '{entity}' at index {index_key}: {errors_per_entry}\")\n",
    "\n",
    "fail_count = validate_stats.count_results_by_entity(entity, result_type=\"FAIL\")\n",
    "print(f\"Total number of FAIL results for entity '{entity}': {fail_count}\")\n",
    "\n",
    "pass_count = validate_stats.count_results_by_entity(entity, result_type=\"PASS\")\n",
    "print(f\"Total number of PASS results for entity '{entity}': {pass_count}\")\n",
    "\n",
    "all_count = validate_stats.count_results_by_entity(entity, result_type=\"ALL\")\n",
    "print(f\"Total number of validation results for entity '{entity}': {all_count}\")\n",
    "\n",
    "fail_count_index = validate_stats.count_results_by_index(entity, index_key, result_type=\"FAIL\")\n",
    "print(f\"Number of FAIL results for entity '{entity}' at index {index_key}: {fail_count_index}\")\n",
    "\n",
    "total_errors = validate_stats.total_validation_errors()\n",
    "print(f\"Total number of validation errors: {total_errors}\")\n",
    "\n",
    "summary_df = validate_stats.summary_stats()\n",
    "print(\"Summary statistics DataFrame:\")\n",
    "print(summary_df)\n"
   ]
  },
  {
   "cell_type": "markdown",
   "metadata": {},
   "source": [
    "# Creating validation summary data\n",
    "- We can also pass the validator instance to the `ValidateSummary` class to get a flattened summary of the validation results."
   ]
  },
  {
   "cell_type": "markdown",
   "metadata": {},
   "source": [
    "Creating ValidateSummary instance"
   ]
  },
  {
   "cell_type": "code",
   "execution_count": null,
   "metadata": {},
   "outputs": [],
   "source": [
    "import gen3_data_validator\n",
    "from gen3_data_validator.logging_config import setup_logging\n",
    "setup_logging(level=\"INFO\")\n",
    "\n",
    "resolver = gen3_data_validator.ResolveSchema(schema_path = \"../tests/schema/gen3_test_schema.json\")\n",
    "resolver.resolve_schema()\n",
    "data = gen3_data_validator.ParseData(data_folder_path = \"../tests/data/fail\")\n",
    "validator = gen3_data_validator.Validate(data_map=data.data_dict, resolved_schema=resolver.schema_resolved)\n",
    "validator.validate_schema() # make sure validation has been run by calling .validate_schema()\n",
    "\n",
    "Summary = gen3_data_validator.ValidateSummary(validator) \n"
   ]
  },
  {
   "cell_type": "markdown",
   "metadata": {},
   "source": [
    "This returns the validation results in a flattened dictionary format."
   ]
  },
  {
   "cell_type": "code",
   "execution_count": null,
   "metadata": {},
   "outputs": [],
   "source": [
    "Summary.flatten_validation_results()"
   ]
  },
  {
   "cell_type": "markdown",
   "metadata": {},
   "source": [
    "This returns the validation results in a flattened pandas dataframe."
   ]
  },
  {
   "cell_type": "code",
   "execution_count": null,
   "metadata": {},
   "outputs": [],
   "source": [
    "Summary.flattened_results_to_pd()"
   ]
  },
  {
   "cell_type": "markdown",
   "metadata": {},
   "source": [
    "Finally you can also create an aggreated summary of the flattened validation results with:"
   ]
  },
  {
   "cell_type": "code",
   "execution_count": null,
   "metadata": {},
   "outputs": [],
   "source": [
    "Summary.collapse_flatten_results_to_pd()"
   ]
  }
 ],
 "metadata": {
  "kernelspec": {
   "display_name": ".venv",
   "language": "python",
   "name": "python3"
  },
  "language_info": {
   "codemirror_mode": {
    "name": "ipython",
    "version": 3
   },
   "file_extension": ".py",
   "mimetype": "text/x-python",
   "name": "python",
   "nbconvert_exporter": "python",
   "pygments_lexer": "ipython3",
   "version": "3.9.5"
  }
 },
 "nbformat": 4,
 "nbformat_minor": 2
}
