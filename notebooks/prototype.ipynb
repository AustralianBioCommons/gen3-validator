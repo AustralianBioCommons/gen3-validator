{
 "cells": [
  {
   "cell_type": "markdown",
   "metadata": {},
   "source": [
    "# Resolve Schema\n",
    "\n",
    "**input**\n",
    "```\n",
    "+schema_path: str\n",
    "```\n",
    "\n",
    "**methods**\n",
    "```\n",
    "+read_json(schema_path: str): dict\n",
    "+split_json(schema: dict): list\n",
    "+resolver(entity1: dict, entity2: dict): dict\n",
    "+resolve_defs(terms: dict, defs: dict) : dict\n",
    "+ node_order(schema: dict): list\n",
    "+resolve_nodes(nodeList: list, splitJsonList: list): list\n",
    "+recombine_nodes(resolvedList: list) : dict\n",
    "```"
   ]
  },
  {
   "cell_type": "code",
   "execution_count": null,
   "metadata": {},
   "outputs": [],
   "source": [
    "import gen3_data_validator"
   ]
  },
  {
   "cell_type": "code",
   "execution_count": null,
   "metadata": {},
   "outputs": [],
   "source": [
    "ResolverClass = gen3_data_validator.ResolveSchema(schema_path = \"../schema/gen3_test_schema.json\")\n",
    "DataClass = gen3_data_validator.ParseData(data_folder_path = \"../data/fail\")\n",
    "LinkageClass = gen3_data_validator.TestLinkage(schema_resolver = ResolverClass, data_parser = DataClass)\n"
   ]
  },
  {
   "cell_type": "code",
   "execution_count": null,
   "metadata": {},
   "outputs": [],
   "source": [
    "# Using the Linkage class which has the resolved schema with custom data and config\n",
    "config_map = {\n",
    "    \"samples\": {\"primary_key\": \"sample_id\", \"foreign_key\": \"subject_id\"},\n",
    "    \"files\": {\"primary_key\": \"file_id\", \"foreign_key\": \"sample_id\"},\n",
    "    \"subjects\": {\"primary_key\": \"subject_id\", \"foreign_key\": \"project_id\"},\n",
    "    \"project\": {\"primary_key\": \"project_id\", \"foreign_key\": None}\n",
    "}\n",
    "\n",
    "data_map = {\n",
    "    \"samples\": [\n",
    "        {\"sample_id\": \"sample_1\", \"subject_id\": \"subject_9\"},\n",
    "        {\"sample_id\": \"sample_2\", \"subject_id\": \"subject_3\"},  # Invalid FK\n",
    "        {\"sample_id\": \"sample_3\", \"subject_id\": \"subject_4\"}, # Invalid FK\n",
    "        {\"sample_id\": \"sample_4\", \"subject_id\": \"subject_5\"} # Invalid FK\n",
    "    ],\n",
    "    \"files\": [\n",
    "        {\"file_id\": \"file_1\", \"sample_id\": \"sample_1\"},\n",
    "        {\"file_id\": \"file_2\", \"sample_id\": \"sample_27\"}  # Invalid FK\n",
    "    ],\n",
    "    \"subjects\": [\n",
    "        {\"subject_id\": \"subject_1\", \"project_id\": \"project_1\"},  \n",
    "        {\"subject_id\": \"subject_2\", \"project_id\": \"project_2\"}, # Missing project 2\n",
    "    ],\n",
    "    \"project\": [\n",
    "        {\"project_id\": \"project_1\"}\n",
    "    ]\n",
    "}\n",
    "\n",
    "LinkageClass.validate_links(data_map, config_map)"
   ]
  }
 ],
 "metadata": {
  "kernelspec": {
   "display_name": ".venv",
   "language": "python",
   "name": "python3"
  },
  "language_info": {
   "codemirror_mode": {
    "name": "ipython",
    "version": 3
   },
   "file_extension": ".py",
   "mimetype": "text/x-python",
   "name": "python",
   "nbconvert_exporter": "python",
   "pygments_lexer": "ipython3",
   "version": "3.9.5"
  }
 },
 "nbformat": 4,
 "nbformat_minor": 2
}
