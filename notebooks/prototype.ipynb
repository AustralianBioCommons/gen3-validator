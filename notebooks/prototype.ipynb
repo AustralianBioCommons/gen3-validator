{
 "cells": [
  {
   "cell_type": "markdown",
   "metadata": {},
   "source": [
    "# Resolve Schema\n",
    "\n",
    "**input**\n",
    "```\n",
    "+schema_path: str\n",
    "```\n",
    "\n",
    "**methods**\n",
    "```\n",
    "+read_json(schema_path: str): dict\n",
    "+split_json(schema: dict): list\n",
    "+resolver(entity1: dict, entity2: dict): dict\n",
    "+resolve_defs(terms: dict, defs: dict) : dict\n",
    "+ node_order(schema: dict): list\n",
    "+resolve_nodes(nodeList: list, splitJsonList: list): list\n",
    "+recombine_nodes(resolvedList: list) : dict\n",
    "```"
   ]
  },
  {
   "cell_type": "code",
   "execution_count": null,
   "metadata": {},
   "outputs": [],
   "source": [
    "import gen3validator\n",
    "from gen3validator.logging_config import setup_logging\n",
    "setup_logging()"
   ]
  },
  {
   "cell_type": "code",
   "execution_count": null,
   "metadata": {
    "vscode": {
     "languageId": "shellscript"
    }
   },
   "outputs": [],
   "source": [
    "# pulling manifest\n",
    "!aws s3 cp s3://ausdiab-data-receive-bucket/data/2025-01-31_AusDiab_ACDC_Data_Transfer/manifest.xlsx ../data/restricted/ausdiab_lipid_manifest.xlsx"
   ]
  },
  {
   "cell_type": "code",
   "execution_count": null,
   "metadata": {
    "vscode": {
     "languageId": "shellscript"
    }
   },
   "outputs": [],
   "source": [
    "# pulling schema\n",
    "!aws s3 cp s3://gen3schema-cad-staging-biocommons.org.au/cad.json ../schema/gen3_schema.json"
   ]
  },
  {
   "cell_type": "markdown",
   "metadata": {},
   "source": [
    "## Reading in xlsx data and writing to json\n",
    "- xlsx data comes from xlsx manifest file created from acdc_submission_template"
   ]
  },
  {
   "cell_type": "code",
   "execution_count": 6,
   "metadata": {},
   "outputs": [],
   "source": [
    "# ResolverClass = gen3validator.ResolveSchema(schema_path = \"../schema/gen3_test_schema.json\")\n",
    "xlsxData = gen3validator.ParseXlsxMetadata(xlsx_path = \"/Users/harrijh/projects/gen3-data-validator/data/lipid_metadata_example.xlsx\", skip_rows=1)\n",
    "xlsxData.parse_metadata_template()\n",
    "xlsxData.write_dict_to_json(xlsx_data_dict=xlsxData.xlsx_data_dict, output_dir=\"/Users/harrijh/projects/gen3-data-validator/data/restricted/lipid_metadata_example\")"
   ]
  },
  {
   "cell_type": "markdown",
   "metadata": {},
   "source": [
    "## Testing Linkage"
   ]
  },
  {
   "cell_type": "code",
   "execution_count": 8,
   "metadata": {},
   "outputs": [],
   "source": [
    "Data = gen3validator.ParseData(data_folder_path = \"/Users/harrijh/projects/gen3-data-validator/data/restricted/lipid_metadata_example\")"
   ]
  },
  {
   "cell_type": "code",
   "execution_count": null,
   "metadata": {},
   "outputs": [],
   "source": [
    "Data.file_path_list"
   ]
  },
  {
   "cell_type": "code",
   "execution_count": null,
   "metadata": {},
   "outputs": [],
   "source": [
    "Data = gen3validator.ParseData(data_folder_path = \"/Users/harrijh/projects/gen3-data-validator/data/restricted/lipid_metadata_example\")\n",
    "Resolver = gen3validator.ResolveSchema(schema_path = \"../schema/gen3_schema.json\")\n",
    "Resolver.resolve_schema()\n",
    "Linkage = gen3validator.Linkage(schema_resolver = Resolver, data_parser = Data)"
   ]
  },
  {
   "cell_type": "code",
   "execution_count": 3,
   "metadata": {},
   "outputs": [],
   "source": [
    "Resolver = gen3validator.ResolveSchema(schema_path = \"../schema/gen3_schema.json\")"
   ]
  },
  {
   "cell_type": "code",
   "execution_count": null,
   "metadata": {},
   "outputs": [],
   "source": [
    "Resolver.nodes"
   ]
  },
  {
   "cell_type": "code",
   "execution_count": null,
   "metadata": {},
   "outputs": [],
   "source": []
  },
  {
   "cell_type": "markdown",
   "metadata": {},
   "source": [
    "You can also bypass the data attribute in the linkage class and input your own data_map and config_map"
   ]
  },
  {
   "cell_type": "code",
   "execution_count": 7,
   "metadata": {},
   "outputs": [],
   "source": [
    "# # Using the Linkage class which has the resolved schema with custom data and config\n",
    "# config_map = {\n",
    "#     \"samples\": {\"primary_key\": \"sample_id\", \"foreign_key\": \"subject_id\"},\n",
    "#     \"files\": {\"primary_key\": \"file_id\", \"foreign_key\": \"sample_id\"},\n",
    "#     \"subjects\": {\"primary_key\": \"subject_id\", \"foreign_key\": \"project_id\"},\n",
    "#     \"project\": {\"primary_key\": \"project_id\", \"foreign_key\": None}\n",
    "# }\n",
    "\n",
    "# data_map = {\n",
    "#     \"samples\": [\n",
    "#         {\"sample_id\": \"sample_1\", \"subject_id\": \"subject_9\"},\n",
    "#         {\"sample_id\": \"sample_2\", \"subject_id\": \"subject_3\"},  # Invalid FK\n",
    "#         {\"sample_id\": \"sample_3\", \"subject_id\": \"subject_4\"}, # Invalid FK\n",
    "#         {\"sample_id\": \"sample_4\", \"subject_id\": \"subject_5\"} # Invalid FK\n",
    "#     ],\n",
    "#     \"files\": [\n",
    "#         {\"file_id\": \"file_1\", \"sample_id\": \"sample_1\"},\n",
    "#         {\"file_id\": \"file_2\", \"sample_id\": \"sample_27\"}  # Invalid FK\n",
    "#     ],\n",
    "#     \"subjects\": [\n",
    "#         {\"subject_id\": \"subject_1\", \"project_id\": \"project_1\"},  \n",
    "#         {\"subject_id\": \"subject_2\", \"project_id\": \"project_2\"}, # Missing project 2\n",
    "#     ],\n",
    "#     \"project\": [\n",
    "#         {\"project_id\": \"project_1\"}\n",
    "#     ]\n",
    "# }\n",
    "\n",
    "# Linkage.validate_links(data_map, config_map)"
   ]
  },
  {
   "cell_type": "markdown",
   "metadata": {},
   "source": [
    "# validation prototype\n"
   ]
  },
  {
   "cell_type": "markdown",
   "metadata": {},
   "source": [
    "## Creating the validation class"
   ]
  },
  {
   "cell_type": "code",
   "execution_count": 2,
   "metadata": {},
   "outputs": [],
   "source": [
    "import gen3validator\n",
    "\n",
    "resolver = gen3validator.ResolveSchema(schema_path = \"../schema/gen3_schema.json\")\n",
    "resolver.resolve_schema()\n",
    "data = gen3validator.ParseData(data_folder_path = \"../data/restricted/lipid_metadata_example\")\n",
    "validator = gen3validator.Validate(data_map=data.data_dict, resolved_schema=resolver.schema_resolved)"
   ]
  },
  {
   "cell_type": "code",
   "execution_count": null,
   "metadata": {},
   "outputs": [],
   "source": [
    "validator.validate_schema()"
   ]
  },
  {
   "cell_type": "code",
   "execution_count": null,
   "metadata": {},
   "outputs": [],
   "source": [
    "validator.make_keymap()"
   ]
  },
  {
   "cell_type": "code",
   "execution_count": null,
   "metadata": {},
   "outputs": [],
   "source": [
    "data.data_dict"
   ]
  },
  {
   "cell_type": "markdown",
   "metadata": {},
   "source": [
    "### Getting nested validation results\n",
    "- returns a nested dictionary by entity/data node then by the row/index number, and then the validation objects"
   ]
  },
  {
   "cell_type": "code",
   "execution_count": null,
   "metadata": {},
   "outputs": [],
   "source": [
    "validation_dict = validator.validation_result\n",
    "validation_dict"
   ]
  },
  {
   "cell_type": "code",
   "execution_count": null,
   "metadata": {},
   "outputs": [],
   "source": [
    "validator.list_entities()"
   ]
  },
  {
   "cell_type": "code",
   "execution_count": null,
   "metadata": {},
   "outputs": [],
   "source": [
    "validator.list_index_by_entity(\"lipidomics_assay\")"
   ]
  },
  {
   "cell_type": "markdown",
   "metadata": {},
   "source": [
    "You can pull out a validation results for a specific entity with"
   ]
  },
  {
   "cell_type": "code",
   "execution_count": null,
   "metadata": {},
   "outputs": [],
   "source": [
    "validator.pull_entity(\"lipidomics_assay\")"
   ]
  },
  {
   "cell_type": "markdown",
   "metadata": {},
   "source": [
    "You can pull validation results for a specific entity and then a specific index / row"
   ]
  },
  {
   "cell_type": "code",
   "execution_count": null,
   "metadata": {},
   "outputs": [],
   "source": [
    "validator.pull_index_of_entity(\"lipidomics_assay\", \"index_1\")"
   ]
  },
  {
   "cell_type": "markdown",
   "metadata": {},
   "source": [
    "# Getting validation stats"
   ]
  },
  {
   "cell_type": "code",
   "execution_count": null,
   "metadata": {},
   "outputs": [],
   "source": [
    "validate_stats = gen3validator.ValidateStats(validator)\n",
    "stats_df = validate_stats.summary_stats()\n",
    "stats_df"
   ]
  },
  {
   "cell_type": "markdown",
   "metadata": {},
   "source": [
    "# Creating validation summary data"
   ]
  },
  {
   "cell_type": "code",
   "execution_count": null,
   "metadata": {},
   "outputs": [],
   "source": [
    "Summary = gen3validator.ValidateSummary(validator) \n",
    "flattened_results_dict = Summary.flatten_validation_results()\n",
    "flattened_results_dict"
   ]
  },
  {
   "cell_type": "markdown",
   "metadata": {},
   "source": [
    "### Converting flattened dict to pandas"
   ]
  },
  {
   "cell_type": "code",
   "execution_count": null,
   "metadata": {},
   "outputs": [],
   "source": [
    "flatten_summary_pd = Summary.flattened_results_to_pd()\n",
    "flatten_summary_pd"
   ]
  },
  {
   "cell_type": "markdown",
   "metadata": {},
   "source": [
    "### Collapsing flattened dict to pandas\n",
    "- This collapsed data frame summarises common validation errors"
   ]
  },
  {
   "cell_type": "code",
   "execution_count": null,
   "metadata": {},
   "outputs": [],
   "source": [
    "collapse_df = Summary.collapse_flatten_results_to_pd()\n",
    "collapse_df"
   ]
  },
  {
   "cell_type": "markdown",
   "metadata": {},
   "source": [
    "# Writing validation results to folder"
   ]
  },
  {
   "cell_type": "code",
   "execution_count": null,
   "metadata": {},
   "outputs": [],
   "source": [
    "import os\n",
    "output_dir = \"../data/restricted/ausdiab_lipid_metadata/validation/\"\n",
    "os.makedirs(output_dir, exist_ok=True)\n",
    "\n",
    "\n",
    "def write_dict_to_json(input_dict, output_dir, filename:str):\n",
    "    with open(f\"{output_dir}/{filename}.json\", \"w\") as f:\n",
    "        json.dump(input_dict, f)\n",
    "    print(f\"JSON files written to {output_dir}\")\n",
    "\n",
    "write_dict_to_json(validation_dict, output_dir, \"validation_dict\")\n",
    "write_dict_to_json(flattened_results_dict, output_dir, \"flattened_results_dict\")\n",
    "\n",
    "# Writing pandas df\n",
    "stats_df.to_csv(f\"{output_dir}/stats_df.csv\")\n",
    "flatten_summary_pd.to_csv(f\"{output_dir}/flatten_summary_pd.csv\")\n",
    "collapse_df.to_csv(f\"{output_dir}/collapse_df.csv\")\n"
   ]
  },
  {
   "cell_type": "code",
   "execution_count": null,
   "metadata": {},
   "outputs": [],
   "source": [
    "# Use this for writing tests\n",
    "\n",
    "sample_validation_results = {\n",
    "    'sample': [\n",
    "        [\n",
    "            {\n",
    "                'index': 0,\n",
    "                'validation_result': 'FAIL',\n",
    "                'invalid_key': 'freeze_thaw_cycles',\n",
    "                'schema_path': 'properties.freeze_thaw_cycles.type',\n",
    "                'validator': 'type',\n",
    "                'validator_value': 'integer',\n",
    "                'validation_error': \"'10' is not of type 'integer'\"\n",
    "            },\n",
    "            {\n",
    "                'index': 0,\n",
    "                'validation_result': 'FAIL',\n",
    "                'invalid_key': 'sample_provider',\n",
    "                'schema_path': 'properties.sample_provider.enum',\n",
    "                'validator': 'enum',\n",
    "                'validator_value': ['Baker', 'USYD', 'UMELB', 'UQ'],\n",
    "                'validation_error': \"45 is not one of ['Baker', 'USYD', 'UMELB', 'UQ']\"\n",
    "            },\n",
    "            {\n",
    "                'index': 0,\n",
    "                'validation_result': 'FAIL',\n",
    "                'invalid_key': 'sample_storage_method',\n",
    "                'schema_path': 'properties.sample_storage_method.enum',\n",
    "                'validator': 'enum',\n",
    "                'validator_value': [\n",
    "                    'not stored',\n",
    "                    'ambient temperature',\n",
    "                    'cut slide',\n",
    "                    'fresh',\n",
    "                    'frozen, -70C freezer',\n",
    "                    'frozen, -150C freezer',\n",
    "                    'frozen, liquid nitrogen',\n",
    "                    'frozen, vapor phase',\n",
    "                    'paraffin block',\n",
    "                    'RNAlater, frozen',\n",
    "                    'TRIzol, frozen'\n",
    "                ],\n",
    "                'validation_error': \"'Autoclave' is not one of ['not stored', 'ambient temperature', 'cut slide', 'fresh', 'frozen, -70C freezer', 'frozen, -150C freezer', 'frozen, liquid nitrogen', 'frozen, vapor phase', 'paraffin block', 'RNAlater, frozen', 'TRIzol, frozen']\"\n",
    "            }\n",
    "        ],\n",
    "        [\n",
    "            {\n",
    "                'index': 1,\n",
    "                'validation_result': 'FAIL',\n",
    "                'invalid_key': 'freeze_thaw_cycles',\n",
    "                'schema_path': 'properties.freeze_thaw_cycles.type',\n",
    "                'validator': 'type',\n",
    "                'validator_value': 'integer',\n",
    "                'validation_error': \"'76' is not of type 'integer'\"\n",
    "            },\n",
    "            {\n",
    "                'index': 1,\n",
    "                'validation_result': 'FAIL',\n",
    "                'invalid_key': 'sample_storage_method',\n",
    "                'schema_path': 'properties.sample_storage_method.enum',\n",
    "                'validator': 'enum',\n",
    "                'validator_value': [\n",
    "                    'not stored',\n",
    "                    'ambient temperature',\n",
    "                    'cut slide',\n",
    "                    'fresh',\n",
    "                    'frozen, -70C freezer',\n",
    "                    'frozen, -150C freezer',\n",
    "                    'frozen, liquid nitrogen',\n",
    "                    'frozen, vapor phase',\n",
    "                    'paraffin block',\n",
    "                    'RNAlater, frozen',\n",
    "                    'TRIzol, frozen'\n",
    "                ],\n",
    "                'validation_error': \"'In the Pantry' is not one of ['not stored', 'ambient temperature', 'cut slide', 'fresh', 'frozen, -70C freezer', 'frozen, -150C freezer', 'frozen, liquid nitrogen', 'frozen, vapor phase', 'paraffin block', 'RNAlater, frozen', 'TRIzol, frozen']\"\n",
    "            }\n",
    "        ],\n",
    "        [\n",
    "            {\n",
    "                'index': 2,\n",
    "                'validation_result': 'PASS',\n",
    "                'invalid_key': None,\n",
    "                'schema_path': None,\n",
    "                'validator': None,\n",
    "                'validator_value': None,\n",
    "                'validation_error': None\n",
    "            }\n",
    "        ],\n",
    "        [\n",
    "            {\n",
    "                'index': 3,\n",
    "                'validation_result': 'PASS',\n",
    "                'invalid_key': None,\n",
    "                'schema_path': None,\n",
    "                'validator': None,\n",
    "                'validator_value': None,\n",
    "                'validation_error': None\n",
    "            }\n",
    "        ]\n",
    "    ]\n",
    "}\n",
    "\n",
    "\n"
   ]
  }
 ],
 "metadata": {
  "kernelspec": {
   "display_name": ".venv",
   "language": "python",
   "name": "python3"
  },
  "language_info": {
   "codemirror_mode": {
    "name": "ipython",
    "version": 3
   },
   "file_extension": ".py",
   "mimetype": "text/x-python",
   "name": "python",
   "nbconvert_exporter": "python",
   "pygments_lexer": "ipython3",
   "version": "3.9.5"
  }
 },
 "nbformat": 4,
 "nbformat_minor": 2
}
